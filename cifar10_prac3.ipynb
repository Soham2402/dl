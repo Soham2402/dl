{
  "nbformat": 4,
  "nbformat_minor": 0,
  "metadata": {
    "colab": {
      "provenance": []
    },
    "kernelspec": {
      "name": "python3",
      "display_name": "Python 3"
    },
    "language_info": {
      "name": "python"
    }
  },
  "cells": [
    {
      "cell_type": "code",
      "execution_count": 1,
      "metadata": {
        "colab": {
          "base_uri": "https://localhost:8080/",
          "height": 769
        },
        "id": "xq-h1jZ5YgnU",
        "outputId": "408a5b4c-111a-418f-fb6b-bf431ab9639e"
      },
      "outputs": [
        {
          "output_type": "stream",
          "name": "stdout",
          "text": [
            "Downloading data from https://www.cs.toronto.edu/~kriz/cifar-10-python.tar.gz\n",
            "170498071/170498071 [==============================] - 11s 0us/step\n",
            "Epoch 1/10\n",
            "782/782 [==============================] - 38s 47ms/step - loss: 1.5715 - accuracy: 0.4269 - val_loss: 1.2822 - val_accuracy: 0.5353\n",
            "Epoch 2/10\n",
            "782/782 [==============================] - 36s 46ms/step - loss: 1.2126 - accuracy: 0.5665 - val_loss: 1.0970 - val_accuracy: 0.6104\n",
            "Epoch 3/10\n",
            "782/782 [==============================] - 36s 46ms/step - loss: 1.0519 - accuracy: 0.6276 - val_loss: 1.0155 - val_accuracy: 0.6395\n",
            "Epoch 4/10\n",
            "782/782 [==============================] - 36s 46ms/step - loss: 0.9561 - accuracy: 0.6668 - val_loss: 0.9364 - val_accuracy: 0.6749\n",
            "Epoch 5/10\n",
            "782/782 [==============================] - 36s 47ms/step - loss: 0.8831 - accuracy: 0.6914 - val_loss: 0.8885 - val_accuracy: 0.6923\n",
            "Epoch 6/10\n",
            "782/782 [==============================] - 36s 45ms/step - loss: 0.8258 - accuracy: 0.7122 - val_loss: 0.9041 - val_accuracy: 0.6886\n",
            "Epoch 7/10\n",
            "782/782 [==============================] - 36s 46ms/step - loss: 0.7764 - accuracy: 0.7274 - val_loss: 0.8925 - val_accuracy: 0.6896\n",
            "Epoch 8/10\n",
            "782/782 [==============================] - 36s 45ms/step - loss: 0.7368 - accuracy: 0.7422 - val_loss: 0.8496 - val_accuracy: 0.7101\n",
            "Epoch 9/10\n",
            "782/782 [==============================] - 36s 45ms/step - loss: 0.6954 - accuracy: 0.7562 - val_loss: 0.8670 - val_accuracy: 0.7063\n",
            "Epoch 10/10\n",
            "782/782 [==============================] - 35s 45ms/step - loss: 0.6582 - accuracy: 0.7703 - val_loss: 0.8525 - val_accuracy: 0.7121\n"
          ]
        },
        {
          "output_type": "stream",
          "name": "stderr",
          "text": [
            "/usr/local/lib/python3.10/dist-packages/keras/src/engine/training.py:3103: UserWarning: You are saving your model as an HDF5 file via `model.save()`. This file format is considered legacy. We recommend using instead the native Keras format, e.g. `model.save('my_model.keras')`.\n",
            "  saving_api.save_model(\n"
          ]
        },
        {
          "output_type": "error",
          "ename": "FileNotFoundError",
          "evalue": "[Errno 2] No such file or directory: '/content/0014.png'",
          "traceback": [
            "\u001b[0;31m---------------------------------------------------------------------------\u001b[0m",
            "\u001b[0;31mFileNotFoundError\u001b[0m                         Traceback (most recent call last)",
            "\u001b[0;32m<ipython-input-1-e8b2507457b6>\u001b[0m in \u001b[0;36m<cell line: 47>\u001b[0;34m()\u001b[0m\n\u001b[1;32m     45\u001b[0m \u001b[0;31m# model = keras.models.load_model(\"cifar10_model.h5\")\u001b[0m\u001b[0;34m\u001b[0m\u001b[0;34m\u001b[0m\u001b[0m\n\u001b[1;32m     46\u001b[0m \u001b[0;31m# Load and preprocess the test image\u001b[0m\u001b[0;34m\u001b[0m\u001b[0;34m\u001b[0m\u001b[0m\n\u001b[0;32m---> 47\u001b[0;31m \u001b[0mimg\u001b[0m \u001b[0;34m=\u001b[0m \u001b[0mImage\u001b[0m\u001b[0;34m.\u001b[0m\u001b[0mopen\u001b[0m\u001b[0;34m(\u001b[0m\u001b[0;34m\"/content/0014.png\"\u001b[0m\u001b[0;34m)\u001b[0m\u001b[0;34m\u001b[0m\u001b[0;34m\u001b[0m\u001b[0m\n\u001b[0m\u001b[1;32m     48\u001b[0m \u001b[0mimg\u001b[0m \u001b[0;34m=\u001b[0m \u001b[0mimg\u001b[0m\u001b[0;34m.\u001b[0m\u001b[0mresize\u001b[0m\u001b[0;34m(\u001b[0m\u001b[0;34m(\u001b[0m\u001b[0;36m32\u001b[0m\u001b[0;34m,\u001b[0m \u001b[0;36m32\u001b[0m\u001b[0;34m)\u001b[0m\u001b[0;34m)\u001b[0m\u001b[0;34m\u001b[0m\u001b[0;34m\u001b[0m\u001b[0m\n\u001b[1;32m     49\u001b[0m \u001b[0mimg_array\u001b[0m \u001b[0;34m=\u001b[0m \u001b[0mnp\u001b[0m\u001b[0;34m.\u001b[0m\u001b[0marray\u001b[0m\u001b[0;34m(\u001b[0m\u001b[0mimg\u001b[0m\u001b[0;34m)\u001b[0m\u001b[0;34m\u001b[0m\u001b[0;34m\u001b[0m\u001b[0m\n",
            "\u001b[0;32m/usr/local/lib/python3.10/dist-packages/PIL/Image.py\u001b[0m in \u001b[0;36mopen\u001b[0;34m(fp, mode, formats)\u001b[0m\n\u001b[1;32m   3225\u001b[0m \u001b[0;34m\u001b[0m\u001b[0m\n\u001b[1;32m   3226\u001b[0m     \u001b[0;32mif\u001b[0m \u001b[0mfilename\u001b[0m\u001b[0;34m:\u001b[0m\u001b[0;34m\u001b[0m\u001b[0;34m\u001b[0m\u001b[0m\n\u001b[0;32m-> 3227\u001b[0;31m         \u001b[0mfp\u001b[0m \u001b[0;34m=\u001b[0m \u001b[0mbuiltins\u001b[0m\u001b[0;34m.\u001b[0m\u001b[0mopen\u001b[0m\u001b[0;34m(\u001b[0m\u001b[0mfilename\u001b[0m\u001b[0;34m,\u001b[0m \u001b[0;34m\"rb\"\u001b[0m\u001b[0;34m)\u001b[0m\u001b[0;34m\u001b[0m\u001b[0;34m\u001b[0m\u001b[0m\n\u001b[0m\u001b[1;32m   3228\u001b[0m         \u001b[0mexclusive_fp\u001b[0m \u001b[0;34m=\u001b[0m \u001b[0;32mTrue\u001b[0m\u001b[0;34m\u001b[0m\u001b[0;34m\u001b[0m\u001b[0m\n\u001b[1;32m   3229\u001b[0m \u001b[0;34m\u001b[0m\u001b[0m\n",
            "\u001b[0;31mFileNotFoundError\u001b[0m: [Errno 2] No such file or directory: '/content/0014.png'"
          ]
        }
      ],
      "source": [
        "import tensorflow as tf\n",
        "from tensorflow import keras\n",
        "import numpy as np\n",
        "from PIL import Image\n",
        "\n",
        "# Load the CIFAR-10 dataset\n",
        "(x_train, y_train), (x_test, y_test) = keras.datasets.cifar10.load_data()\n",
        "\n",
        "# Normalize the pixel values to be between 0 and 1\n",
        "x_train = x_train.astype(\"float32\") / 255.0\n",
        "x_test = x_test.astype(\"float32\") / 255.0\n",
        "\n",
        "\n",
        "# Convert the labels to one-hot encoded vectors\n",
        "y_train = keras.utils.to_categorical(y_train, num_classes=10)\n",
        "y_test = keras.utils.to_categorical(y_test, num_classes=10)\n",
        "\n",
        "# Define the model architecture\n",
        "model = keras.models.Sequential([\n",
        "    keras.layers.Conv2D(32, (3, 3), activation='relu', input_shape=(32, 32, 3)),\n",
        "    keras.layers.MaxPooling2D((2, 2)),\n",
        "    keras.layers.Conv2D(64, (3, 3), activation='relu'),\n",
        "    keras.layers.MaxPooling2D((2, 2)),\n",
        "    keras.layers.Conv2D(64, (3, 3), activation='relu'),\n",
        "    keras.layers.Flatten(),\n",
        "    keras.layers.Dense(64, activation='relu'),\n",
        "    keras.layers.Dense(10, activation='softmax')\n",
        "])\n",
        "\n",
        "# Compile the model\n",
        "model.compile(optimizer='adam', loss='categorical_crossentropy', metrics=['accuracy'])\n",
        "\n",
        "# Train the model\n",
        "history = model.fit(x_train, y_train, epochs=10, batch_size=64, validation_data=(x_test, y_test))\n",
        "\n",
        "# Save the trained model to a file\n",
        "model.save(\"cifar10_model.h5\")\n",
        "# Load the saved model\n",
        "model = keras.models.load_model(\"cifar10_model.h5\")\n",
        "\n",
        "# # Save the trained model to a file\n",
        "# model.save(\"cifar10_model.h5\")\n",
        "\n",
        "# # Load the saved modela\n",
        "# model = keras.models.load_model(\"cifar10_model.h5\")\n",
        "# Load and preprocess the test image\n",
        "img = Image.open(\"/content/0014.png\")\n",
        "img = img.resize((32, 32))\n",
        "img_array = np.array(img)\n",
        "# Convert image to 3 channels (RGB) if it has 4 channels (RGBA)\n",
        "if img_array.shape[-1] == 4:\n",
        "    img_array = img_array[..., :3]\n",
        "img_array = img_array.astype(\"float32\") / 255.0\n",
        "img_array = np.expand_dims(img_array, axis=0)\n",
        "# Make predictions on the test image\n",
        "predictions = model.predict(img_array)\n",
        "\n",
        "# Get the predicted class label\n",
        "class_label = np.argmax(predictions)\n",
        "\n",
        "# Print the predicted class label\n",
        "print(\"Predicted class label:\", class_label)"
      ]
    },
    {
      "cell_type": "code",
      "source": [],
      "metadata": {
        "id": "jlCAfXXPYlRl"
      },
      "execution_count": null,
      "outputs": []
    },
    {
      "cell_type": "markdown",
      "source": [],
      "metadata": {
        "id": "3le0YTT-Y3Qv"
      }
    }
  ]
}
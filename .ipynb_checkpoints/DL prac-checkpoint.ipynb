{
  "nbformat": 4,
  "nbformat_minor": 0,
  "metadata": {
    "colab": {
      "provenance": [],
      "toc_visible": true
    },
    "kernelspec": {
      "name": "python3",
      "display_name": "Python 3"
    },
    "language_info": {
      "name": "python"
    }
  },
  "cells": [
    {
      "cell_type": "markdown",
      "source": [
        "p1\n"
      ],
      "metadata": {
        "id": "Aa50JAC8GpTu"
      }
    },
    {
      "cell_type": "markdown",
      "source": [
        "# New Section"
      ],
      "metadata": {
        "id": "gaAoPs0kCOlL"
      }
    },
    {
      "cell_type": "markdown",
      "source": [
        "# New Section"
      ],
      "metadata": {
        "id": "8675H4Hxc0y0"
      }
    },
    {
      "cell_type": "code",
      "source": [
        "import tensorflow as tf\n",
        "# Load the data\n",
        "(train_data, train_labels), (test_data, test_labels) = tf.keras.datasets.mnist.load_data()  # Load MNIST dataset\n",
        "# Preprocess the data\n",
        "train_data = train_data.reshape((60000, 784)) / 255.0  # Reshape and normalize training data\n",
        "test_data = test_data.reshape((10000, 784)) / 255.0"
      ],
      "metadata": {
        "colab": {
          "base_uri": "https://localhost:8080/"
        },
        "id": "I6-JwHL4Go3K",
        "outputId": "42d9d37c-3879-48c7-f775-c72a51f58096"
      },
      "execution_count": null,
      "outputs": [
        {
          "output_type": "stream",
          "name": "stdout",
          "text": [
            "Downloading data from https://storage.googleapis.com/tensorflow/tf-keras-datasets/mnist.npz\n",
            "11490434/11490434 [==============================] - 1s 0us/step\n"
          ]
        }
      ]
    },
    {
      "cell_type": "code",
      "source": [
        "# Reshape and normalize testing data\n",
        "train_labels = tf.keras.utils.to_categorical(train_labels)  # Convert training labels to one-hot encoding\n",
        "test_labels = tf.keras.utils.to_categorical(test_labels)"
      ],
      "metadata": {
        "id": "prTIGmldGvqH"
      },
      "execution_count": null,
      "outputs": []
    },
    {
      "cell_type": "code",
      "source": [
        " #Convert testing labels to one-hot encoding\n",
        "# Define the model architecture\n",
        "model = tf.keras.models.Sequential([  # Define sequential model\n",
        "    tf.keras.layers.Dense(128, activation='relu', input_shape=(784,), kernel_regularizer=tf.keras.regularizers.l2(0.01)), tf.keras.layers.Dense(64, activation='relu', kernel_regularizer=tf.keras.regularizers.l2(0.01)), tf.keras.layers.Dense(10, activation='softmax') ])\n",
        "# Compile the model\n",
        "model.compile(optimizer=tf.keras.optimizers.Adam(learning_rate=0.001),  # Use Adam optimizer with learning rate 0.001\n",
        "              loss='categorical_crossentropy',  # Use categorical cross-entropy loss function\n",
        "              metrics=['accuracy'])  # Monitor accuracy during training\n",
        "# Train the model\n",
        "history = model.fit(train_data, train_labels, epochs=10, batch_size=128, validation_data=(test_data, test_labels))  # Train the model for 10 epochs, using batches of size 128, and validate on the testing data at the end of each epoch\n",
        "import matplotlib.pyplot as plt\n"
      ],
      "metadata": {
        "colab": {
          "base_uri": "https://localhost:8080/"
        },
        "id": "V6gbC7IkG40f",
        "outputId": "e779f9a2-0721-4318-e292-5b7f1b2dd59a"
      },
      "execution_count": null,
      "outputs": [
        {
          "output_type": "stream",
          "name": "stdout",
          "text": [
            "Epoch 1/10\n",
            "469/469 [==============================] - 3s 6ms/step - loss: 1.1400 - accuracy: 0.8867 - val_loss: 0.6142 - val_accuracy: 0.9175\n",
            "Epoch 2/10\n",
            "469/469 [==============================] - 4s 8ms/step - loss: 0.5594 - accuracy: 0.9230 - val_loss: 0.5142 - val_accuracy: 0.9289\n",
            "Epoch 3/10\n",
            "469/469 [==============================] - 6s 12ms/step - loss: 0.4907 - accuracy: 0.9302 - val_loss: 0.4565 - val_accuracy: 0.9390\n",
            "Epoch 4/10\n",
            "469/469 [==============================] - 5s 11ms/step - loss: 0.4515 - accuracy: 0.9366 - val_loss: 0.4204 - val_accuracy: 0.9426\n",
            "Epoch 5/10\n",
            "469/469 [==============================] - 5s 11ms/step - loss: 0.4237 - accuracy: 0.9400 - val_loss: 0.4041 - val_accuracy: 0.9453\n",
            "Epoch 6/10\n",
            "469/469 [==============================] - 3s 6ms/step - loss: 0.4040 - accuracy: 0.9434 - val_loss: 0.3750 - val_accuracy: 0.9496\n",
            "Epoch 7/10\n",
            "469/469 [==============================] - 2s 5ms/step - loss: 0.3814 - accuracy: 0.9474 - val_loss: 0.3656 - val_accuracy: 0.9532\n",
            "Epoch 8/10\n",
            "469/469 [==============================] - 3s 5ms/step - loss: 0.3662 - accuracy: 0.9497 - val_loss: 0.3547 - val_accuracy: 0.9525\n",
            "Epoch 9/10\n",
            "469/469 [==============================] - 2s 5ms/step - loss: 0.3522 - accuracy: 0.9513 - val_loss: 0.3337 - val_accuracy: 0.9547\n",
            "Epoch 10/10\n",
            "469/469 [==============================] - 4s 8ms/step - loss: 0.3412 - accuracy: 0.9526 - val_loss: 0.3223 - val_accuracy: 0.9558\n"
          ]
        }
      ]
    },
    {
      "cell_type": "code",
      "source": [
        "\n",
        "# Plot training loss and validation loss\n",
        "plt.figure(figsize=(12, 5))\n",
        "# Plot Training Loss\n",
        "plt.subplot(1, 2, 1)\n",
        "plt.plot(history.history['loss'], label='Training Loss')\n",
        "plt.plot(history.history['val_loss'], label='Validation Loss')\n",
        "plt.title('Training and Validation Loss')\n",
        "plt.xlabel('Epochs')\n",
        "plt.ylabel('Loss')\n",
        "plt.legend()\n",
        "# Plot Training Accuracy and Validation Accuracy\n",
        "plt.subplot(1, 2, 2)\n",
        "plt.plot(history.history['accuracy'], label='Training Accuracy')\n",
        "plt.plot(history.history['val_accuracy'], label='Validation Accuracy')\n",
        "plt.title('Training and Validation Accuracy')\n",
        "plt.xlabel('Epochs')\n",
        "plt.ylabel('Accuracy')\n",
        "plt.legend()\n"
      ],
      "metadata": {
        "colab": {
          "base_uri": "https://localhost:8080/",
          "height": 476
        },
        "id": "YNMgOXIYHFFl",
        "outputId": "36b33ba7-859e-4ea1-b43e-bfd099cd5397"
      },
      "execution_count": null,
      "outputs": [
        {
          "output_type": "execute_result",
          "data": {
            "text/plain": [
              "<matplotlib.legend.Legend at 0x7ed82ea1b010>"
            ]
          },
          "metadata": {},
          "execution_count": 4
        },
        {
          "output_type": "display_data",
          "data": {
            "text/plain": [
              "<Figure size 1200x500 with 2 Axes>"
            ],
            "image/png": "[encoded data removed]"
          },
          "metadata": {}
        }
      ]
    },
    {
      "cell_type": "code",
      "source": [
        "plt.tight_layout()\n",
        "plt.show()"
      ],
      "metadata": {
        "colab": {
          "base_uri": "https://localhost:8080/",
          "height": 34
        },
        "id": "EYSEendMHi8P",
        "outputId": "717bd352-ce46-4605-a285-558c38735894"
      },
      "execution_count": null,
      "outputs": [
        {
          "output_type": "display_data",
          "data": {
            "text/plain": [
              "<Figure size 640x480 with 0 Axes>"
            ]
          },
          "metadata": {}
        }
      ]
    },
    {
      "cell_type": "markdown",
      "source": [],
      "metadata": {
        "id": "m3vNS6MvIgi5"
      }
    },
    {
      "cell_type": "markdown",
      "source": [
        "# PRAC 2"
      ],
      "metadata": {
        "id": "9GlyvymSIiEJ"
      }
    },
    {
      "cell_type": "code",
      "source": [
        "############## PRAC 2\n",
        "import tensorflow as tf\n",
        "# Load the data\n",
        "(train_data, train_labels), (test_data, test_labels) = tf.keras.datasets.mnist.load_data()  # Load MNIST dataset"
      ],
      "metadata": {
        "id": "0C4k8WeDIr4Z"
      },
      "execution_count": null,
      "outputs": []
    },
    {
      "cell_type": "code",
      "source": [
        "# Preprocess the data\n",
        "train_data = train_data.reshape((60000, 784)) / 255.0  # Reshape and normalize training data\n",
        "test_data = test_data.reshape((10000, 784)) / 255.0  # Reshape and normalize testing data"
      ],
      "metadata": {
        "id": "eNMh1ya7Ir06"
      },
      "execution_count": null,
      "outputs": []
    },
    {
      "cell_type": "code",
      "source": [
        "train_labels = tf.keras.utils.to_categorical(train_labels)  # Convert training labels to one-hot encoding\n",
        "test_labels = tf.keras.utils.to_categorical(test_labels) #Convert testing labels to one-hot encoding"
      ],
      "metadata": {
        "id": "94A-4PPJIryX"
      },
      "execution_count": null,
      "outputs": []
    },
    {
      "cell_type": "code",
      "source": [
        "# Define the model architecture\n",
        "model = tf.keras.models.Sequential([  # Define sequential model\n",
        "    tf.keras.layers.Dense(128, activation='relu', input_shape=(784,), kernel_regularizer=tf.keras.regularizers.l2(0.01)), tf.keras.layers.Dense(64, activation='relu', kernel_regularizer=tf.keras.regularizers.l2(0.01)), tf.keras.layers.Dense(10, activation='softmax') ])"
      ],
      "metadata": {
        "id": "X0BpRB57Irvw"
      },
      "execution_count": null,
      "outputs": []
    },
    {
      "cell_type": "code",
      "source": [
        "# Compile the model\n",
        "model.compile(optimizer=tf.keras.optimizers.Adam(learning_rate=0.001),  # Use Adam optimizer with learning rate 0.001\n",
        "              loss='categorical_crossentropy',  # Use categorical cross-entropy loss function\n",
        "              metrics=['accuracy'])  # Monitor accuracy during training"
      ],
      "metadata": {
        "id": "_JG8z_7lIrs-"
      },
      "execution_count": null,
      "outputs": []
    },
    {
      "cell_type": "code",
      "source": [
        "# Train the model\n",
        "history = model.fit(train_data, train_labels, epochs=10, batch_size=128, validation_data=(test_data, test_labels))  # Train the model for 10 epochs, using batches of size 128, and validate on the testing data at the end of each epoch\n",
        "import matplotlib.pyplot as plt"
      ],
      "metadata": {
        "colab": {
          "base_uri": "https://localhost:8080/"
        },
        "id": "mXliMGtEIrRP",
        "outputId": "29526cc1-7ab6-4a99-a72b-8d3d17fed534"
      },
      "execution_count": null,
      "outputs": [
        {
          "output_type": "stream",
          "name": "stdout",
          "text": [
            "Epoch 1/10\n",
            "469/469 [==============================] - 4s 7ms/step - loss: 1.1215 - accuracy: 0.8844 - val_loss: 0.6045 - val_accuracy: 0.9197\n",
            "Epoch 2/10\n",
            "469/469 [==============================] - 3s 5ms/step - loss: 0.5561 - accuracy: 0.9206 - val_loss: 0.4947 - val_accuracy: 0.9316\n",
            "Epoch 3/10\n",
            "469/469 [==============================] - 2s 5ms/step - loss: 0.4887 - accuracy: 0.9299 - val_loss: 0.4528 - val_accuracy: 0.9352\n",
            "Epoch 4/10\n",
            "469/469 [==============================] - 2s 5ms/step - loss: 0.4527 - accuracy: 0.9348 - val_loss: 0.4212 - val_accuracy: 0.9422\n",
            "Epoch 5/10\n",
            "469/469 [==============================] - 3s 6ms/step - loss: 0.4246 - accuracy: 0.9400 - val_loss: 0.3942 - val_accuracy: 0.9457\n",
            "Epoch 6/10\n",
            "469/469 [==============================] - 4s 8ms/step - loss: 0.4039 - accuracy: 0.9421 - val_loss: 0.3794 - val_accuracy: 0.9480\n",
            "Epoch 7/10\n",
            "469/469 [==============================] - 2s 5ms/step - loss: 0.3864 - accuracy: 0.9457 - val_loss: 0.3634 - val_accuracy: 0.9492\n",
            "Epoch 8/10\n",
            "469/469 [==============================] - 3s 6ms/step - loss: 0.3686 - accuracy: 0.9485 - val_loss: 0.3605 - val_accuracy: 0.9507\n",
            "Epoch 9/10\n",
            "469/469 [==============================] - 3s 7ms/step - loss: 0.3571 - accuracy: 0.9502 - val_loss: 0.3393 - val_accuracy: 0.9549\n",
            "Epoch 10/10\n",
            "469/469 [==============================] - 3s 6ms/step - loss: 0.3434 - accuracy: 0.9522 - val_loss: 0.3206 - val_accuracy: 0.9566\n"
          ]
        }
      ]
    },
    {
      "cell_type": "code",
      "source": [
        "# Plot training loss and validation loss\n",
        "plt.figure(figsize=(12, 5))"
      ],
      "metadata": {
        "colab": {
          "base_uri": "https://localhost:8080/",
          "height": 52
        },
        "id": "1mYPZFj6I6ee",
        "outputId": "c42c761c-710c-4ec4-e4d0-9d0b275dfa32"
      },
      "execution_count": null,
      "outputs": [
        {
          "output_type": "execute_result",
          "data": {
            "text/plain": [
              "<Figure size 1200x500 with 0 Axes>"
            ]
          },
          "metadata": {},
          "execution_count": 15
        },
        {
          "output_type": "display_data",
          "data": {
            "text/plain": [
              "<Figure size 1200x500 with 0 Axes>"
            ]
          },
          "metadata": {}
        }
      ]
    },
    {
      "cell_type": "code",
      "source": [
        "# Plot Training Loss\n",
        "plt.subplot(1, 2, 1)\n",
        "plt.plot(history.history['loss'], label='Training Loss')\n",
        "plt.plot(history.history['val_loss'], label='Validation Loss')\n",
        "plt.title('Training and Validation Loss')\n",
        "plt.xlabel('Epochs')\n",
        "plt.ylabel('Loss')\n",
        "plt.legend()"
      ],
      "metadata": {
        "colab": {
          "base_uri": "https://localhost:8080/",
          "height": 489
        },
        "id": "k8X9eYTCI9aD",
        "outputId": "113f241e-b41e-4a33-b348-03f9b5fab642"
      },
      "execution_count": null,
      "outputs": [
        {
          "output_type": "execute_result",
          "data": {
            "text/plain": [
              "<matplotlib.legend.Legend at 0x79201639ebf0>"
            ]
          },
          "metadata": {},
          "execution_count": 16
        },
        {
          "output_type": "display_data",
          "data": {
            "text/plain": [
              "<Figure size 640x480 with 1 Axes>"
            ],
            "image/png": "[encoded data removed]"
          },
          "metadata": {}
        }
      ]
    },
    {
      "cell_type": "code",
      "source": [
        "# Plot Training Accuracy and Validation Accuracy\n",
        "plt.subplot(1, 2, 2)\n",
        "plt.plot(history.history['accuracy'], label='Training Accuracy')\n",
        "plt.plot(history.history['val_accuracy'], label='Validation Accuracy')\n",
        "plt.title('Training and Validation Accuracy')\n",
        "plt.xlabel('Epochs')\n",
        "plt.ylabel('Accuracy')\n",
        "plt.legend()\n",
        "\n",
        "plt.tight_layout()\n",
        "plt.show()"
      ],
      "metadata": {
        "colab": {
          "base_uri": "https://localhost:8080/",
          "height": 487
        },
        "id": "6H8LlcKUJAq4",
        "outputId": "76e7998d-393a-426c-b886-9a3fc81dd6af"
      },
      "execution_count": null,
      "outputs": [
        {
          "output_type": "display_data",
          "data": {
            "text/plain": [
              "<Figure size 640x480 with 1 Axes>"
            ],
            "image/png": "[encoded data removed]"
          },
          "metadata": {}
        }
      ]
    },
    {
      "cell_type": "markdown",
      "source": [
        "# Practical 3: Recognizing classes for datasets like CIFAR-10 images for previously unseen images and assign them to one of the 10 classes\n"
      ],
      "metadata": {
        "id": "EJvfBDkdlLYP"
      }
    },
    {
      "cell_type": "code",
      "source": [
        "import tensorflow as tf\n",
        "from tensorflow import keras\n",
        "import numpy as np\n",
        "from PIL import Image"
      ],
      "metadata": {
        "id": "HRJEhbyeLEmI"
      },
      "execution_count": null,
      "outputs": []
    },
    {
      "cell_type": "code",
      "source": [
        "# Load the CIFAR-10 dataset\n",
        "(x_train, y_train), (x_test, y_test) = keras.datasets.cifar10.load_data()\n",
        "\n",
        "# Normalize the pixel values to be between 0 and 1\n",
        "x_train = x_train.astype(\"float32\") / 255.0\n",
        "x_test = x_test.astype(\"float32\") / 255.0"
      ],
      "metadata": {
        "colab": {
          "base_uri": "https://localhost:8080/"
        },
        "id": "rIwXiP-WLIvR",
        "outputId": "80876416-8f8f-4253-af0e-709411cdcdb1"
      },
      "execution_count": null,
      "outputs": [
        {
          "output_type": "stream",
          "name": "stdout",
          "text": [
            "Downloading data from https://www.cs.toronto.edu/~kriz/cifar-10-python.tar.gz\n",
            "170498071/170498071 [==============================] - 6s 0us/step\n"
          ]
        }
      ]
    },
    {
      "cell_type": "code",
      "execution_count": null,
      "metadata": {
        "id": "XiRZIGicEucK"
      },
      "outputs": [],
      "source": [
        "\n",
        "# Convert the labels to one-hot encoded vectors\n",
        "y_train = keras.utils.to_categorical(y_train, num_classes=10)\n",
        "y_test = keras.utils.to_categorical(y_test, num_classes=10)\n",
        "\n",
        "# Define the model architecture\n",
        "model = keras.models.Sequential([\n",
        "    keras.layers.Conv2D(32, (3, 3), activation='relu', input_shape=(32, 32, 3)),\n",
        "    keras.layers.MaxPooling2D((2, 2)),\n",
        "    keras.layers.Conv2D(64, (3, 3), activation='relu'),\n",
        "    keras.layers.MaxPooling2D((2, 2)),\n",
        "    keras.layers.Conv2D(64, (3, 3), activation='relu'),\n",
        "    keras.layers.Flatten(),\n",
        "    keras.layers.Dense(64, activation='relu'),\n",
        "    keras.layers.Dense(10, activation='softmax')\n",
        "])"
      ]
    },
    {
      "cell_type": "code",
      "source": [
        "# Compile the model\n",
        "model.compile(optimizer='adam', loss='categorical_crossentropy', metrics=['accuracy'])\n",
        "\n",
        "# Train the model\n",
        "history = model.fit(x_train, y_train, epochs=10, batch_size=64, validation_data=(x_test, y_test))\n",
        "\n",
        "# Save the trained model to a file\n",
        "model.save(\"cifar10_model.h5\")\n",
        "# Load the saved model\n",
        "model = keras.models.load_model(\"cifar10_model.h5\")"
      ],
      "metadata": {
        "colab": {
          "base_uri": "https://localhost:8080/"
        },
        "id": "Og-nkivHLCIy",
        "outputId": "445571be-55ef-43a4-c898-e6406c5d56d0"
      },
      "execution_count": null,
      "outputs": [
        {
          "output_type": "stream",
          "name": "stdout",
          "text": [
            "Epoch 1/10\n",
            "782/782 [==============================] - 72s 91ms/step - loss: 1.6273 - accuracy: 0.4047 - val_loss: 1.3408 - val_accuracy: 0.5095\n",
            "Epoch 2/10\n",
            "782/782 [==============================] - 69s 88ms/step - loss: 1.2656 - accuracy: 0.5483 - val_loss: 1.1908 - val_accuracy: 0.5762\n",
            "Epoch 3/10\n",
            "782/782 [==============================] - 65s 84ms/step - loss: 1.1178 - accuracy: 0.6037 - val_loss: 1.0732 - val_accuracy: 0.6258\n",
            "Epoch 4/10\n",
            "782/782 [==============================] - 69s 88ms/step - loss: 1.0186 - accuracy: 0.6454 - val_loss: 1.0506 - val_accuracy: 0.6326\n",
            "Epoch 5/10\n",
            "782/782 [==============================] - 70s 90ms/step - loss: 0.9552 - accuracy: 0.6662 - val_loss: 0.9708 - val_accuracy: 0.6574\n",
            "Epoch 6/10\n",
            "782/782 [==============================] - 69s 89ms/step - loss: 0.8972 - accuracy: 0.6858 - val_loss: 1.0509 - val_accuracy: 0.6429\n",
            "Epoch 7/10\n",
            "782/782 [==============================] - 68s 88ms/step - loss: 0.8453 - accuracy: 0.7050 - val_loss: 0.9209 - val_accuracy: 0.6825\n",
            "Epoch 8/10\n",
            "782/782 [==============================] - 70s 89ms/step - loss: 0.8023 - accuracy: 0.7213 - val_loss: 0.9139 - val_accuracy: 0.6870\n",
            "Epoch 9/10\n",
            "782/782 [==============================] - 70s 89ms/step - loss: 0.7585 - accuracy: 0.7350 - val_loss: 0.8985 - val_accuracy: 0.6972\n",
            "Epoch 10/10\n",
            "782/782 [==============================] - 69s 88ms/step - loss: 0.7260 - accuracy: 0.7468 - val_loss: 0.8581 - val_accuracy: 0.7041\n"
          ]
        },
        {
          "output_type": "stream",
          "name": "stderr",
          "text": [
            "/usr/local/lib/python3.10/dist-packages/keras/src/engine/training.py:3103: UserWarning: You are saving your model as an HDF5 file via `model.save()`. This file format is considered legacy. We recommend using instead the native Keras format, e.g. `model.save('my_model.keras')`.\n",
            "  saving_api.save_model(\n"
          ]
        }
      ]
    },
    {
      "cell_type": "code",
      "source": [
        "# # Save the trained model to a file\n",
        "# model.save(\"cifar10_model.h5\")\n",
        "\n",
        "# # Load the saved model\n",
        "# model = keras.models.load_model(\"cifar10_model.h5\")\n",
        "# Load and preprocess the test image\n",
        "img = Image.open(\"img.png\")\n",
        "img = img.resize((32, 32))\n",
        "img_array = np.array(img)\n",
        "# Convert image to 3 channels (RGB) if it has 4 channels (RGBA)\n",
        "if img_array.shape[-1] == 4:\n",
        "    img_array = img_array[..., :3]\n",
        "img_array = img_array.astype(\"float32\") / 255.0\n",
        "img_array = np.expand_dims(img_array, axis=0)\n",
        "# Make predictions on the test image\n",
        "predictions = model.predict(img_array)\n",
        "\n",
        "# Get the predicted class label\n",
        "class_label = np.argmax(predictions)\n",
        "\n",
        "# Print the predicted class label\n",
        "print(\"Predicted class label:\", class_label)"
      ],
      "metadata": {
        "colab": {
          "base_uri": "https://localhost:8080/"
        },
        "id": "-u5M1e5aK-bn",
        "outputId": "41a84153-e078-4dc7-8b68-77b726343b19"
      },
      "execution_count": null,
      "outputs": [
        {
          "output_type": "stream",
          "name": "stdout",
          "text": [
            "1/1 [==============================] - 0s 121ms/step\n",
            "Predicted class label: 4\n"
          ]
        }
      ]
    },
    {
      "cell_type": "markdown",
      "source": [
        "# p4"
      ],
      "metadata": {
        "id": "yIRG09K4laF-"
      }
    },
    {
      "cell_type": "code",
      "source": [
        "import tensorflow as tf\n",
        "#Load the data\n",
        "(train_data, train_labels),(test_data,test_labels)=tf.keras.datasets.mnist.load_data()\n",
        "#preprocess the data\n",
        "train_data= train_data.reshape((60000,784))/255.0 # reshapes and normalizes the training data\n",
        "test_data= test_data.reshape((10000,784))/255.0 #reshape and normalize testing data\n",
        "train_labels=tf.keras.utils.to_categorical(train_labels) #convert training labels to one hot encoder\n",
        "test_labels=tf.keras.utils.to_categorical(test_labels) #convert testing labels to one hot encodertrain_labels=tf.keras.utils.to_categorical(train_labels) #convert training labels to one hot encoder\n",
        "\n",
        "#define the model Architecture\n",
        "model=tf.keras.models.Sequential([\n",
        "    tf.keras.layers.Dense(128,activation='relu',input_shape=(784,), kernel_regularizer=tf.keras.regularizers.l2(0.01)),\n",
        "    tf.keras.layers.Dense(64,activation='relu',kernel_regularizer=tf.keras.regularizers.l2(0.01)),\n",
        "    tf.keras.layers.Dense(10,activation='softmax')\n",
        "])\n",
        "\n",
        "#compile the model\n",
        "model.compile(optimizer=tf.keras.optimizers.Adam(learning_rate=0.001),# use adam optimizer with learning rate 0.001\n",
        "              loss='categorical_crossentropy', metrics = ['accuracy']) # use categorical cross-crossentrtopy loss function\n",
        "\n",
        "#train the model\n",
        "history= model.fit(train_data,train_labels,epochs=10,batch_size=128,validation_data=(test_data,test_labels)) #train thr model for 10 epochs\n",
        "\n"
      ],
      "metadata": {
        "colab": {
          "base_uri": "https://localhost:8080/"
        },
        "id": "iZD_n4bVbuWr",
        "outputId": "111330fe-07cc-4405-dfa9-20479a7f16a1"
      },
      "execution_count": null,
      "outputs": [
        {
          "output_type": "stream",
          "name": "stdout",
          "text": [
            "Downloading data from https://storage.googleapis.com/tensorflow/tf-keras-datasets/mnist.npz\n",
            "11490434/11490434 [==============================] - 1s 0us/step\n",
            "Epoch 1/10\n",
            "469/469 [==============================] - 4s 6ms/step - loss: 1.1245 - accuracy: 0.8828 - val_loss: 0.5919 - val_accuracy: 0.9215\n",
            "Epoch 2/10\n",
            "469/469 [==============================] - 3s 6ms/step - loss: 0.5593 - accuracy: 0.9197 - val_loss: 0.4943 - val_accuracy: 0.9332\n",
            "Epoch 3/10\n",
            "469/469 [==============================] - 4s 9ms/step - loss: 0.4935 - accuracy: 0.9295 - val_loss: 0.4553 - val_accuracy: 0.9358\n",
            "Epoch 4/10\n",
            "469/469 [==============================] - 6s 12ms/step - loss: 0.4535 - accuracy: 0.9371 - val_loss: 0.4177 - val_accuracy: 0.9436\n",
            "Epoch 5/10\n",
            "469/469 [==============================] - 5s 11ms/step - loss: 0.4245 - accuracy: 0.9410 - val_loss: 0.4059 - val_accuracy: 0.9439\n",
            "Epoch 6/10\n",
            "469/469 [==============================] - 6s 12ms/step - loss: 0.4042 - accuracy: 0.9434 - val_loss: 0.3876 - val_accuracy: 0.9469\n",
            "Epoch 7/10\n",
            "469/469 [==============================] - 4s 8ms/step - loss: 0.3841 - accuracy: 0.9469 - val_loss: 0.3611 - val_accuracy: 0.9535\n",
            "Epoch 8/10\n",
            "469/469 [==============================] - 3s 5ms/step - loss: 0.3677 - accuracy: 0.9496 - val_loss: 0.3462 - val_accuracy: 0.9537\n",
            "Epoch 9/10\n",
            "469/469 [==============================] - 3s 6ms/step - loss: 0.3541 - accuracy: 0.9511 - val_loss: 0.3404 - val_accuracy: 0.9540\n",
            "Epoch 10/10\n",
            "469/469 [==============================] - 4s 8ms/step - loss: 0.3428 - accuracy: 0.9528 - val_loss: 0.3359 - val_accuracy: 0.9511\n"
          ]
        }
      ]
    },
    {
      "cell_type": "code",
      "source": [
        "import matplotlib.pyplot as plt\n",
        "plt.figure(figsize=(12,5))\n",
        "#plot training loss\n",
        "plt.subplot(1,2,1)\n",
        "plt.plot(history.history['loss'],label='Training loss')\n",
        "plt.plot(history.history['val_loss'],label='Training validation loss')\n",
        "plt.title('training and validation loss')\n",
        "plt.xlabel('Epochs')\n",
        "plt.ylabel('Loss')\n",
        "plt.legend()\n",
        "\n",
        "#plot training and accuracy and validation accuracy\n",
        "plt.subplot(1,2,2)\n",
        "plt.plot(history.history['accuracy'],label='Training accuracy')\n",
        "plt.plot(history.history['val_accuracy'],label='Validation accuracy ')\n",
        "plt.title('training and validation accuracy')\n",
        "plt.xlabel('Epochs')\n",
        "plt.ylabel('Accuracy')\n",
        "plt.legend()\n",
        "plt.tight_layout()\n",
        "plt.show()"
      ],
      "metadata": {
        "colab": {
          "base_uri": "https://localhost:8080/",
          "height": 405
        },
        "id": "la2tXB3ab0_N",
        "outputId": "25e40f29-631f-4c05-dd56-d77cae8046e0"
      },
      "execution_count": null,
      "outputs": [
        {
          "output_type": "display_data",
          "data": {
            "text/plain": [
              "<Figure size 1200x500 with 2 Axes>"
            ],
            "image/png": "[encoded data removed]"
          },
          "metadata": {}
        }
      ]
    },
    {
      "cell_type": "markdown",
      "source": [
        "P5: Implement Convolutional Neural Network for Digit Recognition on the MNIST Dataset"
      ],
      "metadata": {
        "id": "0x6ChqVu_wJI"
      }
    },
    {
      "cell_type": "markdown",
      "source": [
        "\n",
        "\n",
        "# P5: Implement Convolutional Neural Network for Digit Recognition on the MNIST Dataset"
      ],
      "metadata": {
        "id": "s2-DvBhyAmft"
      }
    },
    {
      "cell_type": "code",
      "source": [
        "import tensorflow as tf\n",
        "from tensorflow import keras\n",
        "import numpy as np\n",
        "import matplotlib.pyplot as plt"
      ],
      "metadata": {
        "id": "m8dYOm_G_jW5"
      },
      "execution_count": null,
      "outputs": []
    },
    {
      "cell_type": "code",
      "source": [
        "# Load the MNIST dataset\n",
        "(x_train, y_train), (x_test, y_test) = keras.datasets.mnist.load_data()\n",
        "# Preprocess the data\n",
        "x_train = x_train.astype(\"float32\") / 255.0\n",
        "x_test = x_test.astype(\"float32\") / 255.0\n",
        "x_train = np.expand_dims(x_train, -1)\n",
        "x_test = np.expand_dims(x_test, -1)"
      ],
      "metadata": {
        "colab": {
          "base_uri": "https://localhost:8080/"
        },
        "id": "tKTAgxew_rld",
        "outputId": "befa2f2a-a21d-45fa-8c9d-d509f9fc41c2"
      },
      "execution_count": null,
      "outputs": [
        {
          "output_type": "stream",
          "name": "stdout",
          "text": [
            "Downloading data from https://storage.googleapis.com/tensorflow/tf-keras-datasets/mnist.npz\n",
            "11490434/11490434 [==============================] - 0s 0us/step\n"
          ]
        }
      ]
    },
    {
      "cell_type": "code",
      "source": [
        "# Define the CNN architecture\n",
        "model = keras.models.Sequential([\n",
        "    keras.layers.Conv2D(32, (3, 3), activation=\"relu\", input_shape=(28, 28, 1)),\n",
        "    keras.layers.MaxPooling2D((2, 2)),\n",
        "    keras.layers.Conv2D(64, (3, 3), activation=\"relu\"),\n",
        "    keras.layers.MaxPooling2D((2, 2)),\n",
        "    keras.layers.Flatten(),\n",
        "    keras.layers.Dense(64, activation=\"relu\"),\n",
        "    keras.layers.Dense(10, activation=\"softmax\")\n",
        "])\n"
      ],
      "metadata": {
        "id": "kPvKA8T7_xJ6"
      },
      "execution_count": null,
      "outputs": []
    },
    {
      "cell_type": "code",
      "source": [
        "# Compile the model\n",
        "model.compile(optimizer=\"adam\", loss=\"sparse_categorical_crossentropy\", metrics=[\"accuracy\"])\n"
      ],
      "metadata": {
        "id": "bcwjAp2F_2sY"
      },
      "execution_count": null,
      "outputs": []
    },
    {
      "cell_type": "code",
      "source": [
        "# Train the model\n",
        "history = model.fit(x_train, y_train, epochs=10, batch_size=128, validation_data=(x_test, y_test))\n",
        "# Evaluate the model on the test data\n",
        "test_loss, test_acc = model.evaluate(x_test, y_test)\n",
        "print(\"Test accuracy:\", test_acc)"
      ],
      "metadata": {
        "colab": {
          "base_uri": "https://localhost:8080/"
        },
        "id": "rsFpzfGs_7Hw",
        "outputId": "c53f9337-29e8-4463-b243-20fffae983ba"
      },
      "execution_count": null,
      "outputs": [
        {
          "output_type": "stream",
          "name": "stdout",
          "text": [
            "Epoch 1/10\n",
            "469/469 [==============================] - 47s 98ms/step - loss: 0.2394 - accuracy: 0.9295 - val_loss: 0.0704 - val_accuracy: 0.9778\n",
            "Epoch 2/10\n",
            "469/469 [==============================] - 40s 86ms/step - loss: 0.0655 - accuracy: 0.9799 - val_loss: 0.0463 - val_accuracy: 0.9859\n",
            "Epoch 3/10\n",
            "469/469 [==============================] - 39s 84ms/step - loss: 0.0451 - accuracy: 0.9865 - val_loss: 0.0413 - val_accuracy: 0.9859\n",
            "Epoch 4/10\n",
            "469/469 [==============================] - 40s 86ms/step - loss: 0.0364 - accuracy: 0.9884 - val_loss: 0.0390 - val_accuracy: 0.9873\n",
            "Epoch 5/10\n",
            "469/469 [==============================] - 43s 91ms/step - loss: 0.0284 - accuracy: 0.9915 - val_loss: 0.0361 - val_accuracy: 0.9873\n",
            "Epoch 6/10\n",
            "469/469 [==============================] - 41s 87ms/step - loss: 0.0236 - accuracy: 0.9925 - val_loss: 0.0311 - val_accuracy: 0.9900\n",
            "Epoch 7/10\n",
            "469/469 [==============================] - 42s 89ms/step - loss: 0.0190 - accuracy: 0.9937 - val_loss: 0.0326 - val_accuracy: 0.9882\n",
            "Epoch 8/10\n",
            "469/469 [==============================] - 40s 85ms/step - loss: 0.0164 - accuracy: 0.9949 - val_loss: 0.0389 - val_accuracy: 0.9884\n",
            "Epoch 9/10\n",
            "469/469 [==============================] - 40s 85ms/step - loss: 0.0132 - accuracy: 0.9958 - val_loss: 0.0358 - val_accuracy: 0.9884\n",
            "Epoch 10/10\n",
            "469/469 [==============================] - 41s 87ms/step - loss: 0.0121 - accuracy: 0.9962 - val_loss: 0.0333 - val_accuracy: 0.9898\n",
            "313/313 [==============================] - 2s 7ms/step - loss: 0.0333 - accuracy: 0.9898\n",
            "Test accuracy: 0.989799976348877\n"
          ]
        }
      ]
    },
    {
      "cell_type": "code",
      "source": [
        "# Show predictions for a sample input image\n",
        "sample_img = x_test[0]\n",
        "sample_label = y_test[0]\n",
        "sample_img = np.expand_dims(sample_img, 0)\n",
        "pred = model.predict(sample_img)\n",
        "pred_label = np.argmax(pred)\n",
        "print(\"Sample image true label:\", sample_label)\n",
        "print(\"Sample image predicted label:\", pred_label)"
      ],
      "metadata": {
        "colab": {
          "base_uri": "https://localhost:8080/"
        },
        "id": "1cCP4Nt-AAHg",
        "outputId": "5f2a07fa-e5f4-42f0-d392-104879806741"
      },
      "execution_count": null,
      "outputs": [
        {
          "output_type": "stream",
          "name": "stdout",
          "text": [
            "1/1 [==============================] - 0s 102ms/step\n",
            "Sample image true label: 7\n",
            "Sample image predicted label: 7\n"
          ]
        }
      ]
    },
    {
      "cell_type": "code",
      "source": [
        "# Display the sample image\n",
        "plt.imshow(sample_img.squeeze(), cmap='gray')\n",
        "plt.show()"
      ],
      "metadata": {
        "colab": {
          "base_uri": "https://localhost:8080/",
          "height": 430
        },
        "id": "5VfG5rCLAFGT",
        "outputId": "e9084d6b-7e35-4c83-ccb2-9f1e3a8e6234"
      },
      "execution_count": null,
      "outputs": [
        {
          "output_type": "display_data",
          "data": {
            "text/plain": [
              "<Figure size 640x480 with 1 Axes>"
            ],
            "image/png": "[encoded data removed]"
          },
          "metadata": {}
        }
      ]
    },
    {
      "cell_type": "markdown",
      "source": [
        "\n",
        "\n",
        "# 6-ransfer Learning on the suitable dataset"
      ],
      "metadata": {
        "id": "jZvqzrt5c4gn"
      }
    },
    {
      "cell_type": "code",
      "source": [
        "import tensorflow as tf\n",
        "\n",
        "import numpy as np\n",
        "\n",
        "import matplotlib.pyplot as plt\n",
        "import os\n",
        "\n",
        "import zipfile\n",
        "\n",
        "from tensorflow.keras.preprocessing.image import ImageDataGenerator\n",
        "from tensorflow.keras.applications import VGG16\n"
      ],
      "metadata": {
        "id": "G1BhhVfKc9xH"
      },
      "execution_count": null,
      "outputs": []
    },
    {
      "cell_type": "code",
      "source": [
        "url = \"https://storage.googleapis.com/mledu-datasets/cats_and_dogs_filtered.zip\"\n",
        "filename= os.path.join(os.getcwd(), \"cats_and dogs filtered.zip\")\n",
        "tf.keras.utils.get_file(filename, url)\n",
        "with zipfile.ZipFile(\"cats_and dogs filtered.zip\", \"r\") as zip_ref:\n",
        "  zip_ref.extractall()"
      ],
      "metadata": {
        "colab": {
          "base_uri": "https://localhost:8080/"
        },
        "id": "gdrC7BiodKGB",
        "outputId": "37c117d7-6b36-48a8-d70b-3d8c2ca284c5"
      },
      "execution_count": null,
      "outputs": [
        {
          "output_type": "stream",
          "name": "stdout",
          "text": [
            "Downloading data from https://storage.googleapis.com/mledu-datasets/cats_and_dogs_filtered.zip\n",
            "68606236/68606236 [==============================] - 1s 0us/step\n"
          ]
        }
      ]
    },
    {
      "cell_type": "code",
      "source": [
        "train_dir = os.path.join(os.getcwd(), \"cats_and_dogs_filtered\", \"train\")\n",
        "\n",
        "validation_dira = os.path.join(os.getcwd(), \"cats_and_dogs_filtered\", \"validation\")\n"
      ],
      "metadata": {
        "id": "gOeHqkQDdOIW"
      },
      "execution_count": null,
      "outputs": []
    },
    {
      "cell_type": "code",
      "source": [
        "train_datagens= ImageDataGenerator(rescale=1./255,\n",
        "                                   rotation_range=20,\n",
        "                                   width_shift_range=0.2,\n",
        "                                   height_shift_range=0.2,\n",
        "                                   shear_range=0.2,\n",
        "                                   zoom_range=0.2,\n",
        "                                   horizontal_flip=True)\n",
        "\n"
      ],
      "metadata": {
        "id": "FDdfm-EGdQST"
      },
      "execution_count": null,
      "outputs": []
    },
    {
      "cell_type": "code",
      "source": [
        "\n",
        "validation_datagen =ImageDataGenerator(rescale=1./255)\n",
        "\n",
        "train_generators =train_datagens.flow_from_directory(train_dir,\n",
        "                                                     target_size=(150, 150),\n",
        "                                                     batch_size=20,\n",
        "                                                     class_mode = \"binary\")\n",
        "\n"
      ],
      "metadata": {
        "colab": {
          "base_uri": "https://localhost:8080/"
        },
        "id": "q9aVNI9agsTy",
        "outputId": "1531b8f2-5390-49a7-9f99-244a568fd273"
      },
      "execution_count": null,
      "outputs": [
        {
          "output_type": "stream",
          "name": "stdout",
          "text": [
            "Found 2000 images belonging to 2 classes.\n"
          ]
        }
      ]
    },
    {
      "cell_type": "code",
      "source": [
        "conv_base= VGG16(weights=\"imagenet\",\n",
        "                 include_top=False,\n",
        "                 input_shape=(150,150,3))"
      ],
      "metadata": {
        "colab": {
          "base_uri": "https://localhost:8080/"
        },
        "id": "1lflBohziU2e",
        "outputId": "ed85a412-40e4-4bc5-9c53-5d30c41c8a88"
      },
      "execution_count": null,
      "outputs": [
        {
          "output_type": "stream",
          "name": "stdout",
          "text": [
            "Downloading data from https://storage.googleapis.com/tensorflow/keras-applications/vgg16/vgg16_weights_tf_dim_ordering_tf_kernels_notop.h5\n",
            "58889256/58889256 [==============================] - 1s 0us/step\n"
          ]
        }
      ]
    },
    {
      "cell_type": "code",
      "source": [
        "conv_base.trainable= False\n"
      ],
      "metadata": {
        "id": "nYlr-fE5jHVV"
      },
      "execution_count": null,
      "outputs": []
    },
    {
      "cell_type": "code",
      "source": [
        "model= tf.keras.models.Sequential()\n",
        "model.add(conv_base)\n",
        "model.add(tf.keras.layers.Flatten())\n",
        "model.add(tf.keras.layers.Dense(256, activation=\"relu\"))\n",
        "model.add(tf.keras.layers.Dropout(0.5))\n",
        "model.add(tf.keras.layers.Dense(1, activation=\"sigmoid\"))"
      ],
      "metadata": {
        "id": "KYBbsM-1jfWJ"
      },
      "execution_count": null,
      "outputs": []
    },
    {
      "cell_type": "code",
      "source": [
        "#Compile model\n",
        "model.compile(loss=\"binary_crossentropy\",\n",
        "              optimizer=tf.keras.optimizers.RMSprop(learning_rate=2e-5),\n",
        "              metrics=[\"accuracy\"])"
      ],
      "metadata": {
        "id": "gUZfqEpAnVXL"
      },
      "execution_count": null,
      "outputs": []
    },
    {
      "cell_type": "code",
      "source": [
        "\n",
        "#Train model\n",
        "\n",
        "history= model.fit(train_generators,\n",
        "                   steps_per_epoch=100,\n",
        "                   epochs=30,\n",
        "                   validation_data=validation_generator,\n",
        "                   validation_steps=50)\n",
        "#Show sample input and its predicted class\n",
        "\n",
        "x, y_true= next(validation_generator)\n",
        "y_pred= model.predict(x)\n",
        "\n",
        "class_names=['cat', 'dog']\n",
        "\n",
        "for i in range(len(x)):\n",
        "  plt.imshow (x[i])\n",
        "  plt.title(f'Predicted class:  (class_names[int(round(y_pred[i][0]))], True class: {class_names[int(y_true[i])]}')\n",
        "  plt.show()\n"
      ],
      "metadata": {
        "colab": {
          "base_uri": "https://localhost:8080/",
          "height": 211
        },
        "id": "nBVnuiYQoKH_",
        "outputId": "1c0016f1-ebde-43c5-ed41-e7bde66f6918"
      },
      "execution_count": null,
      "outputs": [
        {
          "output_type": "error",
          "ename": "NameError",
          "evalue": "name 'validation_generator' is not defined",
          "traceback": [
            "\u001b[0;31m---------------------------------------------------------------------------\u001b[0m",
            "\u001b[0;31mNameError\u001b[0m                                 Traceback (most recent call last)",
            "\u001b[0;32m<ipython-input-23-d22a17ab409c>\u001b[0m in \u001b[0;36m<cell line: 3>\u001b[0;34m()\u001b[0m\n\u001b[1;32m      4\u001b[0m                    \u001b[0msteps_per_epoch\u001b[0m\u001b[0;34m=\u001b[0m\u001b[0;36m100\u001b[0m\u001b[0;34m,\u001b[0m\u001b[0;34m\u001b[0m\u001b[0;34m\u001b[0m\u001b[0m\n\u001b[1;32m      5\u001b[0m                    \u001b[0mepochs\u001b[0m\u001b[0;34m=\u001b[0m\u001b[0;36m30\u001b[0m\u001b[0;34m,\u001b[0m\u001b[0;34m\u001b[0m\u001b[0;34m\u001b[0m\u001b[0m\n\u001b[0;32m----> 6\u001b[0;31m                    \u001b[0mvalidation_data\u001b[0m\u001b[0;34m=\u001b[0m\u001b[0mvalidation_generator\u001b[0m\u001b[0;34m,\u001b[0m\u001b[0;34m\u001b[0m\u001b[0;34m\u001b[0m\u001b[0m\n\u001b[0m\u001b[1;32m      7\u001b[0m                    validation_steps=50)\n\u001b[1;32m      8\u001b[0m \u001b[0;31m#Show sample input and its predicted class\u001b[0m\u001b[0;34m\u001b[0m\u001b[0;34m\u001b[0m\u001b[0m\n",
            "\u001b[0;31mNameError\u001b[0m: name 'validation_generator' is not defined"
          ]
        }
      ]
    },
    {
      "cell_type": "code",
      "source": [
        "\n",
        "#Plot accuracy and Loss over time\n",
        "\n",
        "acc history.history[\"accuracy\"]\n",
        "\n",
        "val acc history.history[\"val_accuracy\"]\n",
        "\n",
        "loss history.history[\"loss\"]\n",
        "\n",
        "val loss history.history[\"val_loss\"]\n",
        "\n"
      ],
      "metadata": {
        "id": "AFanhnz9oNM2"
      },
      "execution_count": null,
      "outputs": []
    },
    {
      "cell_type": "markdown",
      "source": [
        "# 10- AIGAmePlaying\n"
      ],
      "metadata": {
        "id": "sH2DU2-ICRG0"
      }
    },
    {
      "cell_type": "code",
      "source": [
        "def minimax(board, depth, is_maximizing):\n",
        "    if check_win(board, 'AI'):\n",
        "        return 10 - depth\n",
        "    elif check_win(board, 'Player'):\n",
        "        return depth - 10\n",
        "    elif 0 not in board:\n",
        "        return 0\n",
        "if is_maximizing:\n",
        "        best_score = -float('inf')\n",
        "        for i in range(9):\n",
        "            if board[i] == 0:\n",
        "                board[i] = -1  # AI makes a move\n",
        "                score = minimax(board, depth + 1, False)\n",
        "                board[i] = 0  # Undo the move\n",
        "                best_score = max(score, best_score)\n",
        "        return best_score\n",
        "else:\n",
        "        best_score = float('inf')\n",
        "        for i in range(9):\n",
        "            if board[i] == 0:\n",
        "                board[i] = 1  # Player makes a move\n",
        "                score = minimax(board, depth + 1, True)\n",
        "                board[i] = 0  # Undo the move\n",
        "                best_score = min(score, best_score)\n",
        "        return best_score\n",
        "\n",
        "\n",
        "\n",
        "def find_best_move(board):\n",
        "    best_score = -float('inf')\n",
        "    best_move = -1\n",
        "    for i in range(9):\n",
        "        if board[i] == 0:\n",
        "            board[i] = -1  # AI makes a move\n",
        "            score = minimax(board, 0, False)\n",
        "            board[i] = 0  # Undo the move\n",
        "            if score > best_score:\n",
        "                best_score = score\n",
        "                best_move = i\n",
        "    return best_move\n",
        "\n",
        "\n",
        "def print_board(state):\n",
        "    chars = [' ', 'X', 'O']\n",
        "    for i in range(3):\n",
        "        print('|'.join(chars[state[i * 3 + j]] for j in range(3)))\n",
        "        if i < 2:\n",
        "            print(\"-----\")\n",
        "def play_game():\n",
        "    game_state = [0] * 9  # 0: empty, 1: player (X), -1: AI (O)\n",
        "    player_turn = True\n",
        "\n",
        "    while True:\n",
        "        if player_turn:\n",
        "            print_board(game_state)\n",
        "            move = int(input(\"Your move (0-8): \"))\n",
        "            if game_state[move] != 0:\n",
        "                print(\"Illegal move! Try again.\")\n",
        "                continue\n",
        "            game_state[move] = 1\n",
        "        else:\n",
        "            move = find_best_move(game_state)\n",
        "            if move == -1:\n",
        "                print(\"No legal moves left. It's a draw!\")\n",
        "                break\n",
        "            print(f\"AI moves at {move}\")\n",
        "            game_state[move] = -1\n",
        "        if check_win(game_state, 'Player'):\n",
        "            print_board(game_state)\n",
        "            print(\"Player wins!\")\n",
        "            break\n",
        "        elif check_win(game_state, 'AI'):\n",
        "            print_board(game_state)\n",
        "            print(\"AI wins!\")\n",
        "            break\n",
        "        elif 0 not in game_state:\n",
        "            print_board(game_state)\n",
        "            print(\"It's a draw!\")\n",
        "            break\n",
        "player_turn = not player_turn\n",
        "\n",
        "# Start the game\n",
        "play_game()"
      ],
      "metadata": {
        "colab": {
          "base_uri": "https://localhost:8080/",
          "height": 106
        },
        "id": "Mc_dDnjTCn6X",
        "outputId": "a53599b5-10e4-4c53-c143-4e7e3eebbed0"
      },
      "execution_count": null,
      "outputs": [
        {
          "output_type": "error",
          "ename": "SyntaxError",
          "evalue": "'return' outside function (<ipython-input-3-fcbe0d0a8773>, line 16)",
          "traceback": [
            "\u001b[0;36m  File \u001b[0;32m\"<ipython-input-3-fcbe0d0a8773>\"\u001b[0;36m, line \u001b[0;32m16\u001b[0m\n\u001b[0;31m    return best_score\u001b[0m\n\u001b[0m    ^\u001b[0m\n\u001b[0;31mSyntaxError\u001b[0m\u001b[0;31m:\u001b[0m 'return' outside function\n"
          ]
        }
      ]
    },
    {
      "cell_type": "code",
      "source": [
        "def minimax(board, depth, is_maximizing):\n",
        "    if check_win(board, 'AI'):\n",
        "        return 10 - depth\n",
        "    elif check_win(board, 'Player'):\n",
        "        return depth - 10\n",
        "    elif 0 not in board:\n",
        "        return 0\n",
        "if is_maximizing:\n",
        "        best_score = -float('inf')\n",
        "        for i in range(9):\n",
        "            if board[i] == 0:\n",
        "                board[i] = -1  # AI makes a move\n",
        "                score = minimax(board, depth + 1, False)\n",
        "                board[i] = 0  # Undo the move\n",
        "                best_score = max(score, best_score)\n",
        "        return best_score\n",
        "else:\n",
        "        best_score = float('inf')\n",
        "        for i in range(9):\n",
        "            if board[i] == 0:\n",
        "                board[i] = 1  # Player makes a move\n",
        "                score = minimax(board, depth + 1, True)\n",
        "                board[i] = 0  # Undo the move\n",
        "                best_score = min(score, best_score)\n",
        "        return best_score"
      ],
      "metadata": {
        "colab": {
          "base_uri": "https://localhost:8080/",
          "height": 106
        },
        "id": "YfpZNksTEwze",
        "outputId": "315dbce8-5756-4808-f083-6f3973316c8f"
      },
      "execution_count": null,
      "outputs": [
        {
          "output_type": "error",
          "ename": "SyntaxError",
          "evalue": "'return' outside function (<ipython-input-7-009d2ea61e2d>, line 16)",
          "traceback": [
            "\u001b[0;36m  File \u001b[0;32m\"<ipython-input-7-009d2ea61e2d>\"\u001b[0;36m, line \u001b[0;32m16\u001b[0m\n\u001b[0;31m    return best_score\u001b[0m\n\u001b[0m    ^\u001b[0m\n\u001b[0;31mSyntaxError\u001b[0m\u001b[0;31m:\u001b[0m 'return' outside function\n"
          ]
        }
      ]
    },
    {
      "cell_type": "code",
      "source": [
        "def find_best_move(board):\n",
        "    best_score = -float('inf')\n",
        "    best_move = -1\n",
        "    for i in range(9):\n",
        "        if board[i] == 0:\n",
        "            board[i] = -1  # AI makes a move\n",
        "            score = minimax(board, 0, False)\n",
        "            board[i] = 0  # Undo the move\n",
        "            if score > best_score:\n",
        "                best_score = score\n",
        "                best_move = i\n",
        "    return best_move"
      ],
      "metadata": {
        "id": "qG2rFhy7FB1c"
      },
      "execution_count": null,
      "outputs": []
    },
    {
      "cell_type": "code",
      "source": [
        "def check_win(board, player):\n",
        "    symbol = 1 if player == 'Player' else -1\n",
        "    win_conditions = [\n",
        "        [0, 1, 2],\n",
        "        [3, 4, 5],\n",
        "        [6, 7, 8],\n",
        "        [0, 3, 6],\n",
        "        [1, 4, 7],\n",
        "        [2, 5, 8],\n",
        "        [0, 4, 8],\n",
        "        [2, 4, 6]\n",
        "    ]\n",
        "    for condition in win_conditions:\n",
        "        if all(board[i] == symbol for i in condition):\n",
        "            return True\n",
        "    return False"
      ],
      "metadata": {
        "id": "1GUM9bttFH-r"
      },
      "execution_count": null,
      "outputs": []
    },
    {
      "cell_type": "code",
      "source": [
        "def print_board(state):\n",
        "    chars = [' ', 'X', 'O']\n",
        "    for i in range(3):\n",
        "        print('|'.join(chars[state[i * 3 + j]] for j in range(3)))\n",
        "        if i < 2:\n",
        "            print(\"-----\")"
      ],
      "metadata": {
        "id": "HPGBVmAhFLhM"
      },
      "execution_count": null,
      "outputs": []
    },
    {
      "cell_type": "code",
      "source": [
        "def play_game():\n",
        "    game_state = [0] * 9  # 0: empty, 1: player (X), -1: AI (O)\n",
        "    player_turn = True\n",
        "\n",
        "    while True:\n",
        "        if player_turn:\n",
        "            print_board(game_state)\n",
        "            move = int(input(\"Your move (0-8): \"))\n",
        "            if game_state[move] != 0:\n",
        "                print(\"Illegal move! Try again.\")\n",
        "                continue\n",
        "            game_state[move] = 1\n",
        "\n",
        "        else:\n",
        "            move = find_best_move(game_state)\n",
        "            if move == -1:\n",
        "                print(\"No legal moves left. It's a draw!\")\n",
        "                break\n",
        "            print(f\"AI moves at {move}\")\n",
        "            game_state[move] = -1\n",
        "\n",
        "        if check_win(game_state, 'Player'):\n",
        "            print_board(game_state)\n",
        "            print(\"Player wins!\")\n",
        "            break\n",
        "elif check_win(game_state, 'AI'):\n",
        "            print_board(game_state)\n",
        "            print(\"AI wins!\")\n",
        "            break\n",
        "        elif 0 not in game_state:\n",
        "            print_board(game_state)\n",
        "            print(\"It's a draw!\")\n",
        "            break\n",
        "\n",
        "        player_turn = not player_turn\n",
        "\n",
        "# Start the game\n",
        "play_game()"
      ],
      "metadata": {
        "id": "1drjiKoyFQC7"
      },
      "execution_count": null,
      "outputs": []
    }
  ]
}